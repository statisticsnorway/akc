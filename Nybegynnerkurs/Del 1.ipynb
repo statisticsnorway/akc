{
 "cells": [
  {
   "cell_type": "markdown",
   "id": "7c9a7ba3-8a73-4340-b744-3b80e86edb75",
   "metadata": {},
   "source": [
    "# Nybegynnerseminar del 1"
   ]
  },
  {
   "cell_type": "markdown",
   "id": "6e9c9e1a-1692-4ffa-9f1e-36101760a14f",
   "metadata": {},
   "source": [
    "## Objekter"
   ]
  },
  {
   "cell_type": "markdown",
   "id": "43e595e6-c50b-4ceb-9ca9-1e9a7e371b33",
   "metadata": {},
   "source": [
    "### streng (tekst, str)"
   ]
  },
  {
   "cell_type": "code",
   "execution_count": 90,
   "id": "08dba6d5-d150-4a53-946c-bbe1a361e6cf",
   "metadata": {
    "tags": []
   },
   "outputs": [],
   "source": [
    "navn = \"Alex\"\n",
    "etternavn = 'Crozier'"
   ]
  },
  {
   "cell_type": "code",
   "execution_count": 2,
   "id": "21361e8f-310e-4c66-af8c-852708d93ad4",
   "metadata": {
    "tags": []
   },
   "outputs": [
    {
     "name": "stdout",
     "output_type": "stream",
     "text": [
      "Alex\n"
     ]
    }
   ],
   "source": [
    "print(navn)"
   ]
  },
  {
   "cell_type": "code",
   "execution_count": 5,
   "id": "26a19da5-3900-401f-a455-61171d5a1a90",
   "metadata": {
    "tags": []
   },
   "outputs": [
    {
     "data": {
      "text/plain": [
       "'123'"
      ]
     },
     "execution_count": 5,
     "metadata": {},
     "output_type": "execute_result"
    }
   ],
   "source": [
    "str(123)"
   ]
  },
  {
   "cell_type": "code",
   "execution_count": 28,
   "id": "85a849c8-cf42-4dba-ba3d-aac0a7e144d4",
   "metadata": {
    "tags": []
   },
   "outputs": [
    {
     "data": {
      "text/plain": [
       "'Ale'"
      ]
     },
     "execution_count": 28,
     "metadata": {},
     "output_type": "execute_result"
    }
   ],
   "source": [
    "navn[0:3]"
   ]
  },
  {
   "cell_type": "markdown",
   "id": "51b27af3-5f68-439c-a366-483a02277b73",
   "metadata": {},
   "source": [
    "### tall"
   ]
  },
  {
   "cell_type": "code",
   "execution_count": 30,
   "id": "ca20d808-387b-4988-8d1a-77da8ba2a456",
   "metadata": {
    "tags": []
   },
   "outputs": [],
   "source": [
    "heltall=1234"
   ]
  },
  {
   "cell_type": "code",
   "execution_count": 7,
   "id": "0b9b8e94-d149-492c-8ac1-c6c0f605386a",
   "metadata": {
    "tags": []
   },
   "outputs": [
    {
     "name": "stdout",
     "output_type": "stream",
     "text": [
      "1234\n"
     ]
    }
   ],
   "source": [
    "print(heltall)"
   ]
  },
  {
   "cell_type": "code",
   "execution_count": 9,
   "id": "6d7b910a-b6c5-49f3-9d0f-5033d74f6a85",
   "metadata": {
    "tags": []
   },
   "outputs": [
    {
     "data": {
      "text/plain": [
       "0"
      ]
     },
     "execution_count": 9,
     "metadata": {},
     "output_type": "execute_result"
    }
   ],
   "source": [
    "int()"
   ]
  },
  {
   "cell_type": "code",
   "execution_count": 10,
   "id": "cce61c4e-042f-4f47-89f6-c5dc01749531",
   "metadata": {
    "tags": []
   },
   "outputs": [],
   "source": [
    "desimaltall = 3.14"
   ]
  },
  {
   "cell_type": "code",
   "execution_count": 11,
   "id": "0609b5e8-f29b-464e-aacd-d1658c3408f8",
   "metadata": {
    "tags": []
   },
   "outputs": [
    {
     "data": {
      "text/plain": [
       "float"
      ]
     },
     "execution_count": 11,
     "metadata": {},
     "output_type": "execute_result"
    }
   ],
   "source": [
    "type(desimaltall)"
   ]
  },
  {
   "cell_type": "code",
   "execution_count": 15,
   "id": "bbdd3f04-e29d-4a6e-afdc-b872df64f8c6",
   "metadata": {
    "tags": []
   },
   "outputs": [
    {
     "name": "stdout",
     "output_type": "stream",
     "text": [
      "1234.0\n"
     ]
    }
   ],
   "source": [
    "print(heltall)"
   ]
  },
  {
   "cell_type": "markdown",
   "id": "7cd0a400-d816-4cda-96ef-2d32abe7c86f",
   "metadata": {},
   "source": [
    "### lister"
   ]
  },
  {
   "cell_type": "code",
   "execution_count": 53,
   "id": "0e814c66-3c3b-4408-95b0-1223c8987112",
   "metadata": {
    "tags": []
   },
   "outputs": [],
   "source": [
    "liste_tall = [heltall, desimaltall]"
   ]
  },
  {
   "cell_type": "code",
   "execution_count": 54,
   "id": "beae511f-cf13-42c6-b6cf-463684018d3c",
   "metadata": {
    "tags": []
   },
   "outputs": [
    {
     "name": "stdout",
     "output_type": "stream",
     "text": [
      "[1234, 3.14]\n"
     ]
    }
   ],
   "source": [
    "print(liste_tall)"
   ]
  },
  {
   "cell_type": "code",
   "execution_count": 55,
   "id": "a2818089-6a5a-465c-a1a1-6e79b8c072aa",
   "metadata": {
    "tags": []
   },
   "outputs": [],
   "source": [
    "liste_tall2 = [1, 2, 3, 4, heltall]"
   ]
  },
  {
   "cell_type": "code",
   "execution_count": 56,
   "id": "30c9c98b-98be-49ac-9d3b-7ea5e6221667",
   "metadata": {
    "tags": []
   },
   "outputs": [
    {
     "name": "stdout",
     "output_type": "stream",
     "text": [
      "[1, 2, 3, 4, 1234]\n"
     ]
    }
   ],
   "source": [
    "print(liste_tall2)"
   ]
  },
  {
   "cell_type": "code",
   "execution_count": 57,
   "id": "4fc12ee9-39fb-4a18-a95a-31cc6bc8a6f3",
   "metadata": {
    "tags": []
   },
   "outputs": [],
   "source": [
    "liste_liste = [liste_tall, liste_tall2]"
   ]
  },
  {
   "cell_type": "code",
   "execution_count": 58,
   "id": "df75d5e0-8e83-4211-95bc-fea927d01fbd",
   "metadata": {
    "tags": []
   },
   "outputs": [
    {
     "name": "stdout",
     "output_type": "stream",
     "text": [
      "[[1234, 3.14], [1, 2, 3, 4, 1234]]\n"
     ]
    }
   ],
   "source": [
    "print(liste_liste)"
   ]
  },
  {
   "cell_type": "code",
   "execution_count": 59,
   "id": "4b0a25cf-df67-40b9-a724-0b62fa367891",
   "metadata": {
    "tags": []
   },
   "outputs": [
    {
     "data": {
      "text/plain": [
       "3"
      ]
     },
     "execution_count": 59,
     "metadata": {},
     "output_type": "execute_result"
    }
   ],
   "source": [
    "liste_tall2[2:4][0]"
   ]
  },
  {
   "cell_type": "code",
   "execution_count": 60,
   "id": "a1b894e9-1e95-4759-86ea-762fcd24c1fd",
   "metadata": {
    "tags": []
   },
   "outputs": [
    {
     "data": {
      "text/plain": [
       "3.14"
      ]
     },
     "execution_count": 60,
     "metadata": {},
     "output_type": "execute_result"
    }
   ],
   "source": [
    "liste_liste[0][-1]"
   ]
  },
  {
   "cell_type": "code",
   "execution_count": 61,
   "id": "b03d5a4f-8e81-465d-a455-056ed60d2290",
   "metadata": {
    "tags": []
   },
   "outputs": [
    {
     "data": {
      "text/plain": [
       "1234"
      ]
     },
     "execution_count": 61,
     "metadata": {},
     "output_type": "execute_result"
    }
   ],
   "source": [
    "liste_tall2[-1]"
   ]
  },
  {
   "cell_type": "code",
   "execution_count": 62,
   "id": "8b686937-069f-45ef-ab75-42684cbcd7bc",
   "metadata": {
    "tags": []
   },
   "outputs": [],
   "source": [
    "liste_tall.append(1001)"
   ]
  },
  {
   "cell_type": "code",
   "execution_count": 63,
   "id": "c987f54d-7190-493e-a928-e0c02218d639",
   "metadata": {
    "tags": []
   },
   "outputs": [
    {
     "name": "stdout",
     "output_type": "stream",
     "text": [
      "[1234, 3.14, 1001]\n"
     ]
    }
   ],
   "source": [
    "print(liste_tall)"
   ]
  },
  {
   "cell_type": "code",
   "execution_count": 64,
   "id": "c9f44914-71b2-426a-bb11-47c9805283bf",
   "metadata": {
    "tags": []
   },
   "outputs": [],
   "source": [
    "liste_tall[1] = 3.14159"
   ]
  },
  {
   "cell_type": "code",
   "execution_count": 65,
   "id": "96b683fd-b425-4f1a-83bf-aef36c0e4fd9",
   "metadata": {
    "tags": []
   },
   "outputs": [
    {
     "name": "stdout",
     "output_type": "stream",
     "text": [
      "[1234, 3.14159, 1001]\n"
     ]
    }
   ],
   "source": [
    "print(liste_tall)"
   ]
  },
  {
   "cell_type": "code",
   "execution_count": 68,
   "id": "1d587080-8976-4958-8d77-12ebb27d3d9f",
   "metadata": {
    "tags": []
   },
   "outputs": [
    {
     "ename": "ValueError",
     "evalue": "list.remove(x): x not in list",
     "output_type": "error",
     "traceback": [
      "\u001b[0;31m---------------------------------------------------------------------------\u001b[0m",
      "\u001b[0;31mValueError\u001b[0m                                Traceback (most recent call last)",
      "Cell \u001b[0;32mIn[68], line 2\u001b[0m\n\u001b[1;32m      1\u001b[0m \u001b[38;5;66;03m# fjerner 1001 fra listen liste_tall\u001b[39;00m\n\u001b[0;32m----> 2\u001b[0m \u001b[43mliste_tall\u001b[49m\u001b[38;5;241;43m.\u001b[39;49m\u001b[43mremove\u001b[49m\u001b[43m(\u001b[49m\u001b[38;5;241;43m1001\u001b[39;49m\u001b[43m)\u001b[49m\n",
      "\u001b[0;31mValueError\u001b[0m: list.remove(x): x not in list"
     ]
    }
   ],
   "source": [
    "# fjerner 1001 fra listen liste_tall\n",
    "liste_tall.remove(1001)"
   ]
  },
  {
   "cell_type": "markdown",
   "id": "60467818-4047-4f7b-8837-de560c051707",
   "metadata": {},
   "source": [
    "### Dictionaries"
   ]
  },
  {
   "cell_type": "code",
   "execution_count": 81,
   "id": "7abd8fe7-06d2-4e70-9c63-097745144f4c",
   "metadata": {
    "tags": []
   },
   "outputs": [],
   "source": [
    "dictionary = {'Navn':['Alex', 'Trym'], 'Etternavn':['Crozier', 'Langballe']}"
   ]
  },
  {
   "cell_type": "code",
   "execution_count": 83,
   "id": "d2af5992-7232-4520-9837-67ca7316d47f",
   "metadata": {
    "tags": []
   },
   "outputs": [
    {
     "data": {
      "text/plain": [
       "['Crozier', 'Langballe']"
      ]
     },
     "execution_count": 83,
     "metadata": {},
     "output_type": "execute_result"
    }
   ],
   "source": [
    "dictionary['Etternavn']"
   ]
  },
  {
   "cell_type": "code",
   "execution_count": 69,
   "id": "4fcc6131-4b94-4a3e-89d0-f7268bccc8d7",
   "metadata": {
    "tags": []
   },
   "outputs": [
    {
     "name": "stdout",
     "output_type": "stream",
     "text": [
      "Variable      Type     Data/Info\n",
      "--------------------------------\n",
      "desimaltall   float    3.14\n",
      "heltall       int      1234\n",
      "liste_liste   list     n=2\n",
      "liste_tall    list     n=2\n",
      "liste_tall2   list     n=5\n",
      "navn          str      Alex\n"
     ]
    }
   ],
   "source": [
    "%whos"
   ]
  },
  {
   "cell_type": "markdown",
   "id": "4c6fcd23-92bc-480c-bda2-8a59b8cccd8a",
   "metadata": {},
   "source": [
    "### Boolske verdier"
   ]
  },
  {
   "cell_type": "code",
   "execution_count": 85,
   "id": "55eac8d0-2d1e-4168-aa27-49473b76f49c",
   "metadata": {
    "tags": []
   },
   "outputs": [],
   "source": [
    "sant = True\n",
    "usant = False"
   ]
  },
  {
   "cell_type": "code",
   "execution_count": 92,
   "id": "06eda219-6f61-4e06-9540-a7885b163330",
   "metadata": {
    "tags": []
   },
   "outputs": [
    {
     "name": "stdout",
     "output_type": "stream",
     "text": [
      "Crozier\n"
     ]
    }
   ],
   "source": [
    "if navn == 'Alex':\n",
    "    print(etternavn)"
   ]
  },
  {
   "cell_type": "code",
   "execution_count": null,
   "id": "917da4c2-839c-4147-9f6c-de1f2b34c19b",
   "metadata": {},
   "outputs": [],
   "source": []
  }
 ],
 "metadata": {
  "kernelspec": {
   "display_name": "Python 3 (ipykernel)",
   "language": "python",
   "name": "python3"
  },
  "language_info": {
   "codemirror_mode": {
    "name": "ipython",
    "version": 3
   },
   "file_extension": ".py",
   "mimetype": "text/x-python",
   "name": "python",
   "nbconvert_exporter": "python",
   "pygments_lexer": "ipython3",
   "version": "3.10.9"
  }
 },
 "nbformat": 4,
 "nbformat_minor": 5
}
