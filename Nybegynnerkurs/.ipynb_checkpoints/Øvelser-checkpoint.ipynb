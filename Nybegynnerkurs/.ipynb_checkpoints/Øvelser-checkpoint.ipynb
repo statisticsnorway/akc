{
 "cells": [
  {
   "cell_type": "markdown",
   "id": "28513dd9-ba43-4bab-a9a5-5d1e5c18b1e9",
   "metadata": {},
   "source": [
    "## Øvelser Python nybegynnerseminar 1"
   ]
  },
  {
   "cell_type": "markdown",
   "id": "aabd6b11-9e57-4050-9de4-9b738c44546d",
   "metadata": {},
   "source": [
    "#### 1. Handleliste"
   ]
  },
  {
   "cell_type": "markdown",
   "id": "d3b617d8-08b7-4c4e-9a26-a347fe039a63",
   "metadata": {},
   "source": [
    "a) Lag en handleliste med 5 varer<br>\n",
    "b) Legg en eller flere varer til listen (hint: handeliste.append())<br>\n",
    "c) Fjern en eller flere varer fra listen (hint: handleliste.remove())<br>\n",
    "d) Skriv ut hele handlelisten<br>\n",
    "e) Skriv ut handlelisten, ett element om gangen (hint: for-løkke)<br>"
   ]
  },
  {
   "cell_type": "markdown",
   "id": "bd297996-b72c-42a6-93f0-e45b2ca6af14",
   "metadata": {},
   "source": [
    "#### 2. Lag et program som regner et beløp fra norske kroner til Euro"
   ]
  },
  {
   "cell_type": "markdown",
   "id": "e21fb2b3-9772-4fd2-a16c-eed239f90269",
   "metadata": {},
   "source": [
    "**Utskriften skal se slik ut:** <br>\n",
    "100 kroner tilsvarer 9.13 Euro"
   ]
  },
  {
   "cell_type": "markdown",
   "id": "51b4a705-73c3-44c2-a128-83f53ea0fd44",
   "metadata": {},
   "source": [
    "Hint: * for å gange <br>\n",
    "Hint 2: Bruk komma i funksjonen print() for å skrive ut både tall og tekst-strenger ELLER en såkalt f-streng"
   ]
  },
  {
   "cell_type": "code",
   "execution_count": null,
   "id": "5929637a-a6c2-43b5-be5c-642769f4fa04",
   "metadata": {},
   "outputs": [],
   "source": []
  }
 ],
 "metadata": {
  "kernelspec": {
   "display_name": "Python 3 (ipykernel)",
   "language": "python",
   "name": "python3"
  },
  "language_info": {
   "codemirror_mode": {
    "name": "ipython",
    "version": 3
   },
   "file_extension": ".py",
   "mimetype": "text/x-python",
   "name": "python",
   "nbconvert_exporter": "python",
   "pygments_lexer": "ipython3",
   "version": "3.10.9"
  }
 },
 "nbformat": 4,
 "nbformat_minor": 5
}
